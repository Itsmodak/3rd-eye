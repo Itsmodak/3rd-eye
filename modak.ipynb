{
  "nbformat": 4,
  "nbformat_minor": 0,
  "metadata": {
    "colab": {
      "name": "Untitled68.ipynb",
      "provenance": [],
      "collapsed_sections": []
    },
    "kernelspec": {
      "name": "python3",
      "display_name": "Python 3"
    },
    "accelerator": "GPU"
  },
  "cells": [
    {
      "cell_type": "markdown",
      "metadata": {
        "id": "Jg1dNdVlF1ZW",
        "colab_type": "text"
      },
      "source": [
        "Git clone tensorflows models"
      ]
    },
    {
      "cell_type": "code",
      "metadata": {
        "id": "OdVgppZa89xR",
        "colab_type": "code",
        "colab": {}
      },
      "source": [
        "git clone https://github.com/tensorflow/models.git"
      ],
      "execution_count": 0,
      "outputs": []
    },
    {
      "cell_type": "markdown",
      "metadata": {
        "id": "cGZCKIe3F_6m",
        "colab_type": "text"
      },
      "source": [
        "Move to your research directory"
      ]
    },
    {
      "cell_type": "code",
      "metadata": {
        "id": "uENwGVCwDQ4E",
        "colab_type": "code",
        "colab": {}
      },
      "source": [
        "cd models/research/"
      ],
      "execution_count": 0,
      "outputs": []
    },
    {
      "cell_type": "code",
      "metadata": {
        "id": "IxdT2gMyDN-4",
        "colab_type": "code",
        "colab": {}
      },
      "source": [
        "protoc object_detection/protos/*.proto --python_out=."
      ],
      "execution_count": 0,
      "outputs": []
    },
    {
      "cell_type": "code",
      "metadata": {
        "id": "E0FD3ikeD6kx",
        "colab_type": "code",
        "colab": {}
      },
      "source": [
        "export PYTHONPATH=$PYTHONPATH:`pwd`:`pwd`/slim"
      ],
      "execution_count": 0,
      "outputs": []
    },
    {
      "cell_type": "code",
      "metadata": {
        "id": "75JznoVp2Hgf",
        "colab_type": "code",
        "colab": {}
      },
      "source": [
        "cd slim"
      ],
      "execution_count": 0,
      "outputs": []
    },
    {
      "cell_type": "code",
      "metadata": {
        "id": "np2QlOiD2Iym",
        "colab_type": "code",
        "colab": {}
      },
      "source": [
        "python3 setup.py build"
      ],
      "execution_count": 0,
      "outputs": []
    },
    {
      "cell_type": "code",
      "metadata": {
        "id": "60S-zj1u2L4S",
        "colab_type": "code",
        "colab": {}
      },
      "source": [
        "python3 setup.py install"
      ],
      "execution_count": 0,
      "outputs": []
    },
    {
      "cell_type": "code",
      "metadata": {
        "id": "EeKhmtik2XZ2",
        "colab_type": "code",
        "colab": {}
      },
      "source": [
        "cd .."
      ],
      "execution_count": 0,
      "outputs": []
    },
    {
      "cell_type": "markdown",
      "metadata": {
        "id": "ROP0Tsbu5wJW",
        "colab_type": "text"
      },
      "source": [
        "Create a image folder inside object_detection folder. Inside your image folder create two another folder for training images and testing images. \n",
        "Copy your all images in training folder.\n",
        "Go to [link](https://tzutalin.github.io/labelImg/) and download labelimg. After donwload, annotate your all images in xml format from training folder . After annotate your images, select random 20% of images and their corresponding xml file from training folder and cut them to your test folder inside your images folder\n",
        "\n",
        "Copy xml2csv.py from 3rd-eye/records_and_csv/ folder and run it from your object_detection folder. After this process, you should have two csv files inside your images folder"
      ]
    },
    {
      "cell_type": "markdown",
      "metadata": {
        "id": "EhUQmc8Z0l8F",
        "colab_type": "text"
      },
      "source": [
        "Download csv to tf-records convertor from [tfrecord](https://github.com/datitran/raccoon_dataset/blob/master/generate_tfrecord.py) or you can use  \ttf_record.py from 3rd-eye/records_and_csv/ folder. Run it as given syntax below"
      ]
    },
    {
      "cell_type": "code",
      "metadata": {
        "id": "YSX7oylzHZiI",
        "colab_type": "code",
        "colab": {}
      },
      "source": [
        "python3 tfrec.py --csv_input=<path_to_your_train_csv_file> --image_dir=<path_to_your_train_images> --output_path=<output_path_to_your_train_records_file>"
      ],
      "execution_count": 0,
      "outputs": []
    },
    {
      "cell_type": "code",
      "metadata": {
        "colab_type": "code",
        "id": "ql9t5Lhs1fEk",
        "colab": {}
      },
      "source": [
        "python3 tfrec.py --csv_input=<path_to_your_test_csv_file> --image_dir=<path_to_your_test_images> --output_path=<output_path_to_your_test_records_file>"
      ],
      "execution_count": 0,
      "outputs": []
    },
    {
      "cell_type": "markdown",
      "metadata": {
        "id": "Uh8q5VKr2Q15",
        "colab_type": "text"
      },
      "source": [
        "After this process, you should have two .records file\n",
        "\n",
        "Go to [models]((https://github.com/tensorflow/models/blob/master/research/object_detection/g3doc/detection_model_zoo.md) and choose your model. In my case i used to faster_rcnn_nas"
      ]
    },
    {
      "cell_type": "code",
      "metadata": {
        "id": "caFnhghuIeqg",
        "colab_type": "code",
        "colab": {}
      },
      "source": [
        "wget http://download.tensorflow.org/models/object_detection/faster_rcnn_nas_coco_2018_01_28.tar.gz"
      ],
      "execution_count": 0,
      "outputs": []
    },
    {
      "cell_type": "code",
      "metadata": {
        "id": "lrOIL-6pIeWN",
        "colab_type": "code",
        "colab": {}
      },
      "source": [
        "tar -xvf faster_rcnn_nas_coco_2018_01_28.tar.gz #your model name"
      ],
      "execution_count": 0,
      "outputs": []
    },
    {
      "cell_type": "markdown",
      "metadata": {
        "id": "O3FXIFyINPMc",
        "colab_type": "text"
      },
      "source": [
        "Create a xyz folder inside your object_detection folder. Inside your xyz folder, create label.pbtxt file\n",
        "\n",
        "```\n",
        "item {\n",
        "  id: 1\n",
        "  name: 'your 1st class name '\n",
        "}\n",
        "\n",
        "item {\n",
        "  id: 2\n",
        "  name: 'your 2nd class name'\n",
        "}\n",
        "\n",
        "item {\n",
        "  id: 3\n",
        "  name: 'your 3rd class name'\n",
        "}\n",
        "\n",
        ".. and so on\n",
        "\n",
        "```"
      ]
    },
    {
      "cell_type": "markdown",
      "metadata": {
        "id": "WqLH5wHv3041",
        "colab_type": "text"
      },
      "source": [
        "Go to [configs](https://github.com/tensorflow/models/tree/master/research/object_detection/samples/configs) or go to your models/research/object_detection/samples/config/ and open your model's corresponding config file.In my case i used to faster_rcnn_nas_coco.config and save your config file in xyz folder after the following instruction "
      ]
    },
    {
      "cell_type": "markdown",
      "metadata": {
        "id": "u8hObK1r7cA9",
        "colab_type": "text"
      },
      "source": [
        "Change following lines in your config file\n",
        "\n",
        "1:\n",
        "```\n",
        " num_classes: number of classes of your objects\n",
        "```\n",
        "2:\n",
        "```\n",
        " fine_tune_checkpoint:\"PATH_TO_BE_CONFIGURED/model.ckpt\". In my case i had configured \"faster_rcnn_nas_coco_2018_01_28/model.ckpt\"\n",
        "```\n",
        "\n",
        "3:\n",
        "```\n",
        "train_input_reader: {\n",
        "  tf_record_input_reader {\n",
        "    input_path: \"path to your train.records\"\n",
        "  }\n",
        "  label_map_path: \"path to your lables.pbtxt\"\n",
        "}\n",
        "```\n",
        "4:\n",
        "```\n",
        "eval_input_reader: {\n",
        "  tf_record_input_reader {\n",
        "    input_path: \"path to your test.records\"\n",
        "  }\n",
        "  label_map_path: \"path to your labels.pbtxt\"\n",
        "  shuffle: false\n",
        "  num_readers: 1\n",
        "}\n",
        "\n",
        "```"
      ]
    },
    {
      "cell_type": "markdown",
      "metadata": {
        "id": "rdshldulDXv4",
        "colab_type": "text"
      },
      "source": [
        "Copy train.py from object_detection/legacy directory and paste it into your research directory. Run train.py from your research directory as given syntax below"
      ]
    },
    {
      "cell_type": "code",
      "metadata": {
        "id": "8n7zIbR-Lo7n",
        "colab_type": "code",
        "colab": {}
      },
      "source": [
        "python3 train.py --logtostderr --train_dir=object_detection/xyz/ --pipeline_config_path=<path_to_your_config_file>"
      ],
      "execution_count": 0,
      "outputs": []
    },
    {
      "cell_type": "markdown",
      "metadata": {
        "id": "m8ChIKucD6Sj",
        "colab_type": "text"
      },
      "source": [
        "After you satisfy with your average loss (recommend avg-loss < 0.06) you can press 'ctrl+M' or stop your training"
      ]
    },
    {
      "cell_type": "code",
      "metadata": {
        "id": "msJo7zQDfZb5",
        "colab_type": "code",
        "colab": {}
      },
      "source": [
        "python3 export_inference_graph.py --input_type image_tensor --pipeline_config_path <path_to_your_config_file(.config)> --trained_checkpoint_prefix <path_to_your_trained_model_higher_checkpoint (.ckpt)> --output_directory <your output model name>"
      ],
      "execution_count": 0,
      "outputs": []
    },
    {
      "cell_type": "markdown",
      "metadata": {
        "id": "_Q3MN7adGTd-",
        "colab_type": "text"
      },
      "source": [
        "After the above process you should have  (your_model_name)folder "
      ]
    }
  ]
}